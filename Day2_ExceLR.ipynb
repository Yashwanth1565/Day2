{
  "nbformat": 4,
  "nbformat_minor": 0,
  "metadata": {
    "colab": {
      "provenance": []
    },
    "kernelspec": {
      "name": "python3",
      "display_name": "Python 3"
    },
    "language_info": {
      "name": "python"
    }
  },
  "cells": [
    {
      "cell_type": "code",
      "execution_count": null,
      "metadata": {
        "id": "U67w3yT8OoZQ"
      },
      "outputs": [],
      "source": [
        "### Day2"
      ]
    },
    {
      "cell_type": "code",
      "source": [
        "my_list = [11, 21, 27, 7, 2004]\n",
        "# Accessing elements by index\n",
        "print(\"List:\")\n",
        "print(\"First element:\", my_list[0])\n",
        "print(\"Third element:\", my_list[2])\n",
        "print(\"Last element:\", my_list[-1])\n",
        "\n",
        "# Creating a tuple with 5 elements\n",
        "my_tuple = (110, 210, 270, 700, 00)\n",
        "# Accessing elements by index\n",
        "print(\"\\nTuple:\")\n",
        "print(\"Second element:\", my_tuple[1])\n",
        "print(\"Fourth element:\", my_tuple[3])\n",
        "print(\"Second last element:\", my_tuple[-2])\n",
        "# Creating a dictionary with 5 elements\n",
        "my_dict = {\"name\": \"Yashwanth\",\"age\": 20,\"city\": \"Hyderbad\",\"occupation\": \"Engineer\",\"country\": \"India\"}\n",
        "# Accessing elements by key\n",
        "print(\"\\nDictionary:\")\n",
        "print(\"Name:\", my_dict[\"name\"])\n",
        "print(\"Age:\", my_dict[\"age\"])\n",
        "print(\"City:\", my_dict.get(\"city\"))\n",
        "\n",
        "#Slicing the list to access multiple elements\n",
        "print(\"\\nSlicing the list:\")\n",
        "print(my_list[1:4])\n",
        "print(my_list[:3])\n",
        "print(my_list[2:])\n",
        "\n",
        "#Slicing the tuple\n",
        "print(\"\\nSlicing the tuple:\")\n",
        "print(my_tuple[0:2])\n",
        "print(my_tuple[2:])"
      ],
      "metadata": {
        "colab": {
          "base_uri": "https://localhost:8080/"
        },
        "id": "HhMPB4pFOtrI",
        "outputId": "cc1f6038-110a-4194-e8fe-92c539e58f6c"
      },
      "execution_count": 1,
      "outputs": [
        {
          "output_type": "stream",
          "name": "stdout",
          "text": [
            "List:\n",
            "First element: 11\n",
            "Third element: 27\n",
            "Last element: 2004\n",
            "\n",
            "Tuple:\n",
            "Second element: 210\n",
            "Fourth element: 700\n",
            "Second last element: 700\n",
            "\n",
            "Dictionary:\n",
            "Name: Yashwanth\n",
            "Age: 20\n",
            "City: Hyderbad\n",
            "\n",
            "Slicing the list:\n",
            "[21, 27, 7]\n",
            "[11, 21, 27]\n",
            "[27, 7, 2004]\n",
            "\n",
            "Slicing the tuple:\n",
            "(110, 210)\n",
            "(270, 700, 0)\n"
          ]
        }
      ]
    },
    {
      "cell_type": "code",
      "source": [],
      "metadata": {
        "id": "0ezWkFdjOuPg"
      },
      "execution_count": null,
      "outputs": []
    }
  ]
}